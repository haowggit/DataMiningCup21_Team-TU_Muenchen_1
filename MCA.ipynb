{
 "cells": [
  {
   "cell_type": "code",
   "execution_count": 6,
   "metadata": {
    "colab": {
     "base_uri": "https://localhost:8080/"
    },
    "executionInfo": {
     "elapsed": 520,
     "status": "ok",
     "timestamp": 1620316130460,
     "user": {
      "displayName": "Hao Guan",
      "photoUrl": "https://lh3.googleusercontent.com/a-/AOh14GhKAYIC9XtBUc-pv2etmj3Vao0VDZO-XAgmSfTxdQ=s64",
      "userId": "09244795209979292211"
     },
     "user_tz": -120
    },
    "id": "EULBIpn4XGvB",
    "outputId": "fe74bc2b-b388-4d3b-cd7b-8589d4f8e30c"
   },
   "outputs": [
    {
     "name": "stdout",
     "output_type": "stream",
     "text": [
      "Drive already mounted at /content/drive; to attempt to forcibly remount, call drive.mount(\"/content/drive\", force_remount=True).\n",
      "/content/drive/MyDrive/SoSe21/DMC\n"
     ]
    }
   ],
   "source": [
    "from google.colab import drive\n",
    "drive.mount('/content/drive')\n",
    "%cd '/content/drive/MyDrive/SoSe21/DMC'"
   ]
  },
  {
   "cell_type": "code",
   "execution_count": 1,
   "metadata": {
    "colab": {
     "base_uri": "https://localhost:8080/"
    },
    "executionInfo": {
     "elapsed": 1457,
     "status": "ok",
     "timestamp": 1620316133834,
     "user": {
      "displayName": "Hao Guan",
      "photoUrl": "https://lh3.googleusercontent.com/a-/AOh14GhKAYIC9XtBUc-pv2etmj3Vao0VDZO-XAgmSfTxdQ=s64",
      "userId": "09244795209979292211"
     },
     "user_tz": -120
    },
    "id": "bGjV3u_sWagf",
    "outputId": "a83b55a2-0037-44ae-c3ce-4a9b7621032f"
   },
   "outputs": [
    {
     "name": "stdout",
     "output_type": "stream",
     "text": [
      "C:\\Users\\guan\\Downloads\\DMC\n"
     ]
    }
   ],
   "source": [
    "import pandas as pd\n",
    "import numpy as np\n",
    "import matplotlib.pyplot as plt\n",
    "import os, sys, csv\n",
    "# import prince, mca\n",
    "import seaborn as sns\n",
    "import scipy\n",
    "from preprocessing import *\n",
    "print(os.getcwd())\n",
    "\n",
    "from scipy.sparse import hstack"
   ]
  },
  {
   "cell_type": "code",
   "execution_count": 2,
   "metadata": {
    "executionInfo": {
     "elapsed": 3377,
     "status": "ok",
     "timestamp": 1620316140468,
     "user": {
      "displayName": "Hao Guan",
      "photoUrl": "https://lh3.googleusercontent.com/a-/AOh14GhKAYIC9XtBUc-pv2etmj3Vao0VDZO-XAgmSfTxdQ=s64",
      "userId": "09244795209979292211"
     },
     "user_tz": -120
    },
    "id": "cX5U8DpAWagp"
   },
   "outputs": [],
   "source": [
    "items, transactions = preprocessing()"
   ]
  },
  {
   "cell_type": "markdown",
   "metadata": {
    "id": "iK_VTbTAWags"
   },
   "source": [
    "OHE the publisher and main topic and save as sparse matrices"
   ]
  },
  {
   "cell_type": "code",
   "execution_count": 3,
   "metadata": {
    "id": "LUMmD0iNWagt",
    "outputId": "42a4d01c-e07c-4ff1-c25d-0f5623d34a0f"
   },
   "outputs": [
    {
     "name": "stdout",
     "output_type": "stream",
     "text": [
      "Wall time: 0 ns\n"
     ]
    }
   ],
   "source": [
    "%%time\n",
    "# # publishers = items['publisher'].str.split(', ').apply(pd.Series).stack()\n",
    "# # P_dummy = pd.get_dummies(publishers, prefix = \"P_\", sparse= True).sum(level = 0)\n",
    "# publishers = items['publisher'].str.get_dummies(', ')\n",
    "# sparse_scipy = scipy.sparse.csr_matrix(publishers.values)\n",
    "# scipy.sparse.save_npz('publisher_sparse_OHE_matrix.npz', sparse_scipy)\n",
    "# publisher_cols = publishers.columns\n",
    "# main_topic = items['main topic'].str.get_dummies(', ')\n",
    "# sparse_scipy2 = scipy.sparse.csr_matrix(main_topic.values)\n",
    "# scipy.sparse.save_npz('main_topic_sparse_OHE_matrix.npz', sparse_scipy2)\n",
    "# main_topic_cols = main_topic.columns"
   ]
  },
  {
   "cell_type": "markdown",
   "metadata": {
    "id": "6SppbgerWagu"
   },
   "source": [
    "concatenate both sparse matrices and save the sparse matrix and its columns indices. "
   ]
  },
  {
   "cell_type": "code",
   "execution_count": null,
   "metadata": {
    "id": "Ot4cITNZWagu"
   },
   "outputs": [],
   "source": [
    "# sparse_OHE_matrix_p_mt = hstack((sparse_scipy, sparse_scipy2))\n",
    "# scipy.sparse.save_npz('sparse_OHE_matrix_pub_mt.npz', sparse_OHE_matrix_p_mt)\n",
    "# cols_sparse = publisher_cols.append(main_topic_cols)\n",
    "# pd.Series(cols_sparse,index=cols_sparse).to_csv('col_names_sparseOHEmatrix', columns=[], header=True)\n"
   ]
  },
  {
   "cell_type": "code",
   "execution_count": null,
   "metadata": {
    "id": "J2v9OO2XWagv"
   },
   "outputs": [],
   "source": [
    "# this part doesnt work, more memory needed \n",
    "\n",
    "# authors = items['author'].str.get_dummies(', ')\n",
    "# # sparse_scipy = scipy.sparse.csr_matrix(authors.values)\n",
    "# # scipy.sparse.save_npz('main_topic_sparse_OHE_matrix.npz', sparse_scipy)\n",
    "\n",
    "# # authors = items['author'].str.split(', ').apply(pd.Series).stack()\n",
    "# # dummy = pd.get_dummies(authors, prefix = \"A_\", sparse= True).sum(level = 0)\n"
   ]
  },
  {
   "cell_type": "code",
   "execution_count": 15,
   "metadata": {
    "executionInfo": {
     "elapsed": 1092,
     "status": "ok",
     "timestamp": 1620317932505,
     "user": {
      "displayName": "Hao Guan",
      "photoUrl": "https://lh3.googleusercontent.com/a-/AOh14GhKAYIC9XtBUc-pv2etmj3Vao0VDZO-XAgmSfTxdQ=s64",
      "userId": "09244795209979292211"
     },
     "user_tz": -120
    },
    "id": "rM57MhrdWagw"
   },
   "outputs": [],
   "source": [
    "sparse_data = scipy.sparse.load_npz('/content/drive/MyDrive/SoSe21/DMC/sparse_OHE_matrix_pub_mt.npz')"
   ]
  },
  {
   "cell_type": "code",
   "execution_count": null,
   "metadata": {
    "id": "vLAGtz4_Wagw"
   },
   "outputs": [],
   "source": [
    "# data_part = items[['itemID', 'publisher', 'main topic']].set_index('itemID')\n",
    "# mca = prince.MCA(n_components=20, n_iter=3, copy=True, check_input=True, engine='auto', random_state=42)\n",
    "# mca = mca.fit(data_part)\n",
    "# mca.explained_inertia_"
   ]
  },
  {
   "cell_type": "code",
   "execution_count": null,
   "metadata": {
    "id": "YU-Rly1WWagw"
   },
   "outputs": [],
   "source": []
  },
  {
   "cell_type": "code",
   "execution_count": null,
   "metadata": {
    "id": "4Jv4GAu7Wagx"
   },
   "outputs": [],
   "source": [
    "dummy"
   ]
  }
 ],
 "metadata": {
  "colab": {
   "name": "MCA.ipynb",
   "provenance": []
  },
  "kernelspec": {
   "display_name": "Python 3",
   "language": "python",
   "name": "python3"
  },
  "language_info": {
   "codemirror_mode": {
    "name": "ipython",
    "version": 3
   },
   "file_extension": ".py",
   "mimetype": "text/x-python",
   "name": "python",
   "nbconvert_exporter": "python",
   "pygments_lexer": "ipython3",
   "version": "3.7.4"
  }
 },
 "nbformat": 4,
 "nbformat_minor": 1
}
